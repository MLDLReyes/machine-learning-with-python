{
 "cells": [
  {
   "cell_type": "code",
   "execution_count": 17,
   "id": "fc9d5df3",
   "metadata": {},
   "outputs": [],
   "source": [
    "import pandas as pd\n",
    "from sklearn.tree import DecisionTreeClassifier\n",
    "import joblib"
   ]
  },
  {
   "cell_type": "code",
   "execution_count": null,
   "id": "bc25de19",
   "metadata": {},
   "outputs": [],
   "source": [
    "#initial training of model\n",
    "#no need to run again and again unless needed\n",
    "#commented the model has already been trained\n",
    "#uncomment if there is still no trained model\n",
    "\n",
    "# music_data = pd.read_csv(filepath)\n",
    "# X = music_data[['age', 'gender']]\n",
    "# y = music_data['genre']\n",
    "\n",
    "# model = DecisionTreeClassifier()\n",
    "# model.fit(X, y)"
   ]
  },
  {
   "cell_type": "code",
   "execution_count": null,
   "id": "7d14fe9f",
   "metadata": {},
   "outputs": [],
   "source": [
    "#to save the model\n",
    "#this enables reusability of the trained model\n",
    "#commented because the model has already been saved\n",
    "#uncomment if the new trained model needs to be saved\n",
    "\n",
    "# joblib.dump(model, filepath)"
   ]
  },
  {
   "cell_type": "code",
   "execution_count": null,
   "id": "d1ab90ae",
   "metadata": {},
   "outputs": [],
   "source": [
    "#to load the model\n",
    "\n",
    "model = joblib.load(filepath)"
   ]
  },
  {
   "cell_type": "code",
   "execution_count": 21,
   "id": "8abda46a",
   "metadata": {},
   "outputs": [
    {
     "name": "stderr",
     "output_type": "stream",
     "text": [
      "C:\\Users\\Luis\\AppData\\Local\\Packages\\PythonSoftwareFoundation.Python.3.12_qbz5n2kfra8p0\\LocalCache\\local-packages\\Python312\\site-packages\\sklearn\\utils\\validation.py:2739: UserWarning: X does not have valid feature names, but DecisionTreeClassifier was fitted with feature names\n",
      "  warnings.warn(\n"
     ]
    },
    {
     "data": {
      "text/plain": [
       "array(['HipHop'], dtype=object)"
      ]
     },
     "execution_count": 21,
     "metadata": {},
     "output_type": "execute_result"
    }
   ],
   "source": [
    "predictions = model.predict([[21, 1]])\n",
    "predictions"
   ]
  }
 ],
 "metadata": {
  "kernelspec": {
   "display_name": "Python 3",
   "language": "python",
   "name": "python3"
  },
  "language_info": {
   "codemirror_mode": {
    "name": "ipython",
    "version": 3
   },
   "file_extension": ".py",
   "mimetype": "text/x-python",
   "name": "python",
   "nbconvert_exporter": "python",
   "pygments_lexer": "ipython3",
   "version": "3.12.10"
  }
 },
 "nbformat": 4,
 "nbformat_minor": 5
}
