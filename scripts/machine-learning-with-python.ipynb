{
 "cells": [
  {
   "cell_type": "code",
   "execution_count": 5,
   "id": "60796a98-1bd1-434e-9aad-a44135419805",
   "metadata": {},
   "outputs": [
    {
     "name": "stdout",
     "output_type": "stream",
     "text": [
      "C:\\Users\\Luis\\Documents\\Work\\Python\\machine-learning-with-python\n"
     ]
    },
    {
     "name": "stderr",
     "output_type": "stream",
     "text": [
      "Cloning into 'machine-learning-with-python'...\n"
     ]
    }
   ],
   "source": [
    "#cloning git repo\n",
    "%cd \"C:\\Users\\Luis\\Documents\\Work\\Python\\machine-learning-with-python\"\n",
    "!git clone https://github.com/MLDLReyes/machine-learning-with-python.git"
   ]
  },
  {
   "cell_type": "code",
   "execution_count": 13,
   "id": "c7ec8beb-f0b0-4c23-890e-a91fa0c00175",
   "metadata": {},
   "outputs": [
    {
     "name": "stdout",
     "output_type": "stream",
     "text": [
      "C:\\Users\\Luis\\Documents\\Work\\Python\\machine-learning-with-python\\machine-learning-with-python\n"
     ]
    }
   ],
   "source": [
    "#changing directory\n",
    "%cd C:/Users/Luis/Documents/Work/Python/machine-learning-with-python/machine-learning-with-python"
   ]
  },
  {
   "cell_type": "code",
   "execution_count": 11,
   "id": "6208f7e3-f4f2-4c0f-a00e-6ce219e98e84",
   "metadata": {},
   "outputs": [
    {
     "name": "stdout",
     "output_type": "stream",
     "text": [
      "Already up to date.\n"
     ]
    },
    {
     "name": "stderr",
     "output_type": "stream",
     "text": [
      "From https://github.com/MLDLReyes/machine-learning-with-python\n",
      " * branch            main       -> FETCH_HEAD\n"
     ]
    }
   ],
   "source": [
    "#pulling updates\n",
    "#!git pull origin main"
   ]
  },
  {
   "cell_type": "code",
   "execution_count": 21,
   "id": "a62d0e15-ca6c-402c-bacf-670c56fb809c",
   "metadata": {},
   "outputs": [
    {
     "name": "stderr",
     "output_type": "stream",
     "text": [
      "fatal: pathspec 'machine-learning-with-python.ipynb' did not match any files\n"
     ]
    }
   ],
   "source": [
    "!git add machine-learning-with-python.ipynb"
   ]
  },
  {
   "cell_type": "code",
   "execution_count": 15,
   "id": "e7592f66-c99c-414d-ac34-a4b20d148ac5",
   "metadata": {},
   "outputs": [
    {
     "name": "stdout",
     "output_type": "stream",
     "text": [
      "On branch main\n",
      "Your branch is up to date with 'origin/main'.\n",
      "\n",
      "nothing to commit, working tree clean\n"
     ]
    }
   ],
   "source": [
    "#commiting updates\n",
    "!git commit -m \"added machine-learning-with-python.ipynb\""
   ]
  },
  {
   "cell_type": "code",
   "execution_count": 19,
   "id": "ffed0c06-1ce6-40c9-aa8b-51fba8c280ad",
   "metadata": {},
   "outputs": [
    {
     "name": "stderr",
     "output_type": "stream",
     "text": [
      "Everything up-to-date\n"
     ]
    }
   ],
   "source": [
    "#pushing updates\n",
    "!git push origin main"
   ]
  }
 ],
 "metadata": {
  "kernelspec": {
   "display_name": "Python [conda env:base] *",
   "language": "python",
   "name": "conda-base-py"
  },
  "language_info": {
   "codemirror_mode": {
    "name": "ipython",
    "version": 3
   },
   "file_extension": ".py",
   "mimetype": "text/x-python",
   "name": "python",
   "nbconvert_exporter": "python",
   "pygments_lexer": "ipython3",
   "version": "3.12.7"
  }
 },
 "nbformat": 4,
 "nbformat_minor": 5
}
